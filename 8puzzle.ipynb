{
  "nbformat": 4,
  "nbformat_minor": 0,
  "metadata": {
    "colab": {
      "provenance": [],
      "authorship_tag": "ABX9TyNWEpmShb06jG81Khg5aZPI",
      "include_colab_link": true
    },
    "kernelspec": {
      "name": "python3",
      "display_name": "Python 3"
    },
    "language_info": {
      "name": "python"
    }
  },
  "cells": [
    {
      "cell_type": "markdown",
      "metadata": {
        "id": "view-in-github",
        "colab_type": "text"
      },
      "source": [
        "<a href=\"https://colab.research.google.com/github/Ben-up/AI/blob/main/8puzzle.ipynb\" target=\"_parent\"><img src=\"https://colab.research.google.com/assets/colab-badge.svg\" alt=\"Open In Colab\"/></a>"
      ]
    },
    {
      "cell_type": "code",
      "source": [
        "import heapq\n",
        "\n",
        "# Define the goal state\n",
        "GOAL_STATE = (1, 2, 3, 4, 5, 6, 7, 8, 0)\n",
        "\n",
        "# Define the possible moves (Up, Down, Left, Right)\n",
        "MOVES = [(-3, 'Up'), (3, 'Down'), (-1, 'Left'), (1, 'Right')]\n",
        "\n",
        "# Heuristic function: Manhattan Distance\n",
        "def manhattan_distance(state):\n",
        "    distance = 0\n",
        "    for i in range(9):\n",
        "        if state[i] != 0:\n",
        "            target_row, target_col = divmod(state[i] - 1, 3)\n",
        "            current_row, current_col = divmod(i, 3)\n",
        "            distance += abs(target_row - current_row) + abs(target_col - current_col)\n",
        "    return distance\n",
        "\n",
        "# A* Algorithm to solve the 8-puzzle problem\n",
        "def a_star(start_state):\n",
        "    # Priority Queue (min-heap) for A* algorithm\n",
        "    open_list = []\n",
        "    # Set of visited states\n",
        "    visited = set()\n",
        "    # Push the initial state into the priority queue with (f, g, state, path)\n",
        "    heapq.heappush(open_list, (manhattan_distance(start_state), 0, start_state, []))\n",
        "\n",
        "    while open_list:\n",
        "        _, cost, current_state, path = heapq.heappop(open_list)\n",
        "\n",
        "        # If the current state is the goal state, return the solution\n",
        "        if current_state == GOAL_STATE:\n",
        "            return path\n",
        "\n",
        "        # Mark the current state as visited\n",
        "        visited.add(current_state)\n",
        "\n",
        "        # Find the blank space (0)\n",
        "        blank_index = current_state.index(0)\n",
        "        row, col = divmod(blank_index, 3)\n",
        "\n",
        "        # Generate the possible moves\n",
        "        for move, direction in MOVES:\n",
        "            new_blank_index = blank_index + move\n",
        "\n",
        "            # Check if the move is valid (don't cross the grid's boundaries)\n",
        "            if direction == 'Left' and col == 0: continue\n",
        "            if direction == 'Right' and col == 2: continue\n",
        "            if direction == 'Up' and row == 0: continue\n",
        "            if direction == 'Down' and row == 2: continue\n",
        "\n",
        "            # Swap the blank space (0) with the adjacent tile\n",
        "            new_state = list(current_state)\n",
        "            new_state[blank_index], new_state[new_blank_index] = new_state[new_blank_index], new_state[blank_index]\n",
        "            new_state_tuple = tuple(new_state)\n",
        "\n",
        "            # Avoid revisiting the same state\n",
        "            if new_state_tuple not in visited:\n",
        "                new_cost = cost + 1\n",
        "                heapq.heappush(open_list, (new_cost + manhattan_distance(new_state_tuple), new_cost, new_state_tuple, path + [direction]))\n",
        "\n",
        "    return None  # If no solution is found\n",
        "\n",
        "# Function to print the state of the puzzle\n",
        "def print_puzzle(state):\n",
        "    for i in range(0, 9, 3):\n",
        "        print(state[i:i + 3])\n",
        "    print()\n",
        "\n",
        "# Main function to solve the 8-puzzle\n",
        "def main():\n",
        "    # Example start state (change this to any other state to test)\n",
        "    start_state = (5, 6, 2, 8, 0, 3, 4, 7, 1)\n",
        "\n",
        "    print(\"Initial Puzzle State:\")\n",
        "    print_puzzle(start_state)\n",
        "\n",
        "    solution = a_star(start_state)\n",
        "    if solution:\n",
        "        print(\"Solution steps:\")\n",
        "        for step in solution:\n",
        "            print(step)\n",
        "    else:\n",
        "        print(\"No solution found!\")\n",
        "\n",
        "if __name__ == \"__main__\":\n",
        "    main()\n"
      ],
      "metadata": {
        "colab": {
          "base_uri": "https://localhost:8080/"
        },
        "id": "bomHLQhruCF1",
        "outputId": "adcb842f-3629-444b-dfe1-b26f8bbd2d70"
      },
      "execution_count": 5,
      "outputs": [
        {
          "output_type": "stream",
          "name": "stdout",
          "text": [
            "Initial Puzzle State:\n",
            "(5, 6, 2)\n",
            "(8, 0, 3)\n",
            "(4, 7, 1)\n",
            "\n",
            "Solution steps:\n",
            "Left\n",
            "Down\n",
            "Right\n",
            "Right\n",
            "Up\n",
            "Left\n",
            "Down\n",
            "Left\n",
            "Up\n",
            "Right\n",
            "Up\n",
            "Left\n",
            "Down\n",
            "Down\n",
            "Right\n",
            "Up\n",
            "Right\n",
            "Down\n",
            "Left\n",
            "Up\n",
            "Up\n",
            "Right\n",
            "Down\n",
            "Down\n"
          ]
        }
      ]
    }
  ]
}